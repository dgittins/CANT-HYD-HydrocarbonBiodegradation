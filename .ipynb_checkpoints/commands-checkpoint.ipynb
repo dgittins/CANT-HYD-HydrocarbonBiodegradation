{
 "cells": [
  {
   "cell_type": "markdown",
   "metadata": {},
   "source": [
    "# **Hydrocarbon biodegradation commands**\n",
    "\n",
    "## Reference sequences\n",
    "\n",
    "1. Concatenate all reference sequence files:\n",
    "\n",
    "cat *.faa > All_hydrocarbon_reference_sequences.faa\n",
    "\n",
    "## Sequence clustering, homology search, and alignment\n",
    "\n",
    "1. Assign reference sequences to clusters of probable function homology (homologous groups)\n",
    "\n",
    "Create a BLAST database from reference sequence files:\n",
    "makeblastdb -in All_hydrocarbon_reference_sequences.faa -dbtype prot -out Hydrocarbon_reference_sequences.db  \n",
    "\n",
    "BLAST reference sequences against the BLAST database: \n",
    "\n",
    "blastp -db Hydrocarbon_reference_sequences.db -query All_hydrocarbon_reference_sequences.faa -outfmt 6 -evalue 1e-4 -num_threads 40 -out Self_blast_hydrocarbon_references.txt \n",
    "\n",
    "2. Perform a sequence homology search for all clustered sequences against the NCBI’s non-redundant protein database in Diamond format\n",
    "\n",
    "diamond blastp --db /gpfs/ebg_data/database/nr/nr.dmnd --query All_hydrocarbon_reference_sequences.faa --out diamondout_All_hydrocarbon_reference_sequences.txt --outfmt 6 qseqid sseqid pident length mismatch gapopen qstart qend sstart send evalue bitscore full_sseq --max-target-seqs 0 --query-cover 70 --evalue 0.0001 --threads 60\n",
    "  \n",
    "3. Group sequences into predefined homlogous groups\n",
    "\n",
    "4. Create .fasta file of blastp results sequences within each group \n",
    "\n",
    "5. Remove duplicate sequences\n",
    "\n",
    "for file in /gpfs/ebg_work/hackathon/Test/*.faa; do newname=\\$(basename $file .faa); time usearch -derep_fulllength \\$file -fastaout $newname.uniques.fasta; don\n",
    "    \n",
    "6. Cluster sequences within each homlogous group at 98% similarity\n",
    "\n",
    "for file in /gpfs/ebg_work/hackathon/Test/cluster/*.fasta; do newname=\\$(basename $file .fasta); time usearch -cluster_fast $file -id 0.98 -centroids $newname.98.repseqs.fasta -uc \\$newname.clusters.uc; done\n",
    "\n",
    "7. Add reference sequences to the clustered files\n",
    "\n",
    "grep -A 1 --no-group-separator -w -Ff  Test/HomologGroup1.seqID.list Alignment/All_hydrocarbon_reference_sequences_singleline.fasta >> Alignment/Group1.uniques.98.repseqs.fasta\n",
    "\n",
    "## Phylogenetic tree generation\n",
    "\n",
    "#Align sequences\n",
    "\n",
    "nohup muscle -in Group1.uniques.98.repseqs.fasta -out Group1.uniques.98.repseqs_align.fasta >> DG_nohup.out &\n",
    "\n",
    "#Tree clustered groups (fastTree)\n",
    "\n",
    "FastTreeMP -pseudo -spr 4 Group1.uniques.98.repseqs_align.fasta > Group1.uniques.98.repseqs_align_tree.tre\n"
   ]
  }
 ],
 "metadata": {
  "kernelspec": {
   "display_name": "MLPB",
   "language": "python",
   "name": "mlpb"
  },
  "language_info": {
   "codemirror_mode": {
    "name": "ipython",
    "version": 3
   },
   "file_extension": ".py",
   "mimetype": "text/x-python",
   "name": "python",
   "nbconvert_exporter": "python",
   "pygments_lexer": "ipython3",
   "version": "3.8.3"
  }
 },
 "nbformat": 4,
 "nbformat_minor": 4
}
